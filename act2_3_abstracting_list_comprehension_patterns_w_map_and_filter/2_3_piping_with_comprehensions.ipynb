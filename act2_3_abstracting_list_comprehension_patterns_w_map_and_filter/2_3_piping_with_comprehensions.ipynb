{
 "cells": [
  {
   "cell_type": "markdown",
   "metadata": {
    "slideshow": {
     "slide_type": "slide"
    }
   },
   "source": [
    "# Piping and List Comprehensions\n",
    "\n",
    "## Objectives\n",
    "\n",
    "1. Identify and use the basic structures of combinind list comprehensions and piping\n",
    "2. Learn about composing list comprehension lambdas"
   ]
  },
  {
   "cell_type": "markdown",
   "metadata": {
    "collapsed": true,
    "jupyter": {
     "outputs_hidden": true
    },
    "slideshow": {
     "slide_type": "slide"
    }
   },
   "source": [
    "## How we compose code that uses list comprehension\n",
    "\n",
    "When composing code that uses list comprehensions\n",
    "\n",
    "* Each step is (temporarily) save using assignment expression.\n",
    "* The last output becomes the next input.\n",
    "* Only the final result *really* needs to be saved."
   ]
  },
  {
   "cell_type": "code",
   "execution_count": 1,
   "metadata": {
    "slideshow": {
     "slide_type": "fragment"
    }
   },
   "outputs": [
    {
     "data": {
      "text/plain": [
       "[0, 1, 2, 3, 4, 5, 6, 7, 8, 9]"
      ]
     },
     "execution_count": 1,
     "metadata": {},
     "output_type": "execute_result"
    }
   ],
   "source": [
    "(nums := [i for i in range(100)])[:10]"
   ]
  },
  {
   "cell_type": "code",
   "execution_count": 2,
   "metadata": {
    "slideshow": {
     "slide_type": "fragment"
    }
   },
   "outputs": [
    {
     "data": {
      "text/plain": [
       "[0, 1, 4, 9, 16, 25, 36, 49, 64, 81]"
      ]
     },
     "execution_count": 2,
     "metadata": {},
     "output_type": "execute_result"
    }
   ],
   "source": [
    "(sqrs := [item ** 2 for item in nums])[:10]"
   ]
  },
  {
   "cell_type": "code",
   "execution_count": 3,
   "metadata": {
    "slideshow": {
     "slide_type": "fragment"
    }
   },
   "outputs": [
    {
     "data": {
      "text/plain": [
       "[0, 1, 4, 9, 16, 25, 36, 49, 64, 81, 100]"
      ]
     },
     "execution_count": 3,
     "metadata": {},
     "output_type": "execute_result"
    }
   ],
   "source": [
    "(small_sqrs := [i for i in sqrs if i <= 100])"
   ]
  },
  {
   "cell_type": "markdown",
   "metadata": {},
   "source": [
    "## Legos, or How do we can our code click!\n",
    "\n",
    "In this activity, we will look at three sets of tools that will allow us to build less verbose and more readable code, namely\n",
    "\n",
    "1. Using `composable.pipable` to compose each step as a pipe, and\n",
    "2. Abstracting the comprehension using `map` and `filter`,"
   ]
  },
  {
   "cell_type": "markdown",
   "metadata": {},
   "source": [
    "### Using `composable.pipable` and `>>` to compose with pipes.\n",
    "\n",
    "The `pipeable` function from the `composable` package \n",
    "\n",
    "1. Is used to *decorate* any function created with `lambda` or `def`, and\n",
    "2. Allows (forward) piping using the `>>` operator."
   ]
  },
  {
   "cell_type": "code",
   "execution_count": 4,
   "metadata": {},
   "outputs": [
    {
     "name": "stdout",
     "output_type": "stream",
     "text": [
      "Requirement already satisfied: composable in c:\\users\\gt7194iu\\appdata\\local\\anaconda3\\envs\\polars\\lib\\site-packages (0.5.4)\n",
      "Requirement already satisfied: python-forge<19.0,>=18.6 in c:\\users\\gt7194iu\\appdata\\local\\anaconda3\\envs\\polars\\lib\\site-packages (from composable) (18.6.0)\n",
      "Requirement already satisfied: toolz<0.12.0,>=0.11.1 in c:\\users\\gt7194iu\\appdata\\local\\anaconda3\\envs\\polars\\lib\\site-packages (from composable) (0.11.2)\n",
      "Note: you may need to restart the kernel to use updated packages.\n"
     ]
    }
   ],
   "source": [
    "%pip install composable"
   ]
  },
  {
   "cell_type": "code",
   "execution_count": 1,
   "metadata": {},
   "outputs": [],
   "source": [
    "from composable import pipeable"
   ]
  },
  {
   "cell_type": "code",
   "execution_count": 6,
   "metadata": {},
   "outputs": [],
   "source": [
    "f = pipeable(lambda x: x**2)"
   ]
  },
  {
   "cell_type": "code",
   "execution_count": 7,
   "metadata": {},
   "outputs": [],
   "source": [
    "@pipeable\n",
    "def g(x):\n",
    "    \"\"\" Adds 2 to any number.\n",
    "    \"\"\"\n",
    "    return x + 2"
   ]
  },
  {
   "cell_type": "code",
   "execution_count": 8,
   "metadata": {},
   "outputs": [
    {
     "data": {
      "text/plain": [
       "6"
      ]
     },
     "execution_count": 8,
     "metadata": {},
     "output_type": "execute_result"
    }
   ],
   "source": [
    "2 >> f >> g"
   ]
  },
  {
   "cell_type": "code",
   "execution_count": 9,
   "metadata": {},
   "outputs": [
    {
     "data": {
      "text/plain": [
       "16"
      ]
     },
     "execution_count": 9,
     "metadata": {},
     "output_type": "execute_result"
    }
   ],
   "source": [
    "2 >> g >> f\n",
    "2 >> g >> f"
   ]
  },
  {
   "cell_type": "markdown",
   "metadata": {},
   "source": [
    "### Piping in `R` versus `Python`\n",
    "\n",
    "**Python.**\n",
    "\n",
    "1. Functions must be pre-decorated with `pipeable`,\n",
    "2. Use `>>` operator, and\n",
    "3. Piped value is pushed into the **last argument.**\n",
    "\n",
    "**R.**\n",
    "\n",
    "1. Works out of the box with all functions,\n",
    "2. Use `%>%` operator which is imported from `dplyr`/`tidyverse`, and\n",
    "3. Piped value is pushed into the **first argument.**"
   ]
  },
  {
   "cell_type": "markdown",
   "metadata": {
    "slideshow": {
     "slide_type": "slide"
    }
   },
   "source": [
    "## Step 1 - `pipeable` functions with comprehensions\n",
    "    \n",
    "<img src=\"./img/pipe_and_list_comp.png\" width=600>"
   ]
  },
  {
   "cell_type": "markdown",
   "metadata": {},
   "source": [
    "### Example 1 - Redoing the squares example."
   ]
  },
  {
   "cell_type": "code",
   "execution_count": 10,
   "metadata": {
    "slideshow": {
     "slide_type": "fragment"
    }
   },
   "outputs": [
    {
     "data": {
      "text/plain": [
       "<function <lambda> at 0x0000018D0FDFE840>"
      ]
     },
     "execution_count": 10,
     "metadata": {},
     "output_type": "execute_result"
    }
   ],
   "source": [
    "(nums := pipeable(lambda N: [i for i in range(N)]))"
   ]
  },
  {
   "cell_type": "code",
   "execution_count": 11,
   "metadata": {
    "slideshow": {
     "slide_type": "fragment"
    }
   },
   "outputs": [
    {
     "data": {
      "text/plain": [
       "<function <lambda> at 0x0000018D0FDFE2A0>"
      ]
     },
     "execution_count": 11,
     "metadata": {},
     "output_type": "execute_result"
    }
   ],
   "source": [
    "(sqrs := pipeable(lambda L: [item ** 2 for item in L]))"
   ]
  },
  {
   "cell_type": "code",
   "execution_count": 12,
   "metadata": {
    "slideshow": {
     "slide_type": "fragment"
    }
   },
   "outputs": [
    {
     "data": {
      "text/plain": [
       "<function <lambda> at 0x0000018D0FDFE160>"
      ]
     },
     "execution_count": 12,
     "metadata": {},
     "output_type": "execute_result"
    }
   ],
   "source": [
    "(small_sqrs := pipeable(lambda L: [i for i in L if i <= 100]))"
   ]
  },
  {
   "cell_type": "code",
   "execution_count": 13,
   "metadata": {},
   "outputs": [
    {
     "data": {
      "text/plain": [
       "[0, 1, 4, 9, 16, 25, 36, 49, 64, 81]"
      ]
     },
     "execution_count": 13,
     "metadata": {},
     "output_type": "execute_result"
    }
   ],
   "source": [
    "(100\n",
    " >> nums\n",
    " >> sqrs\n",
    " >> small_sqrs\n",
    ")[:10]"
   ]
  },
  {
   "cell_type": "markdown",
   "metadata": {
    "slideshow": {
     "slide_type": "slide"
    }
   },
   "source": [
    "## Example 2 - Splitting and processing string\n",
    "\n",
    "**Task.** Compute the average length of all even-length words.\n",
    "\n",
    "* Use `split` to cut a string into a list of strings\n",
    "* Use a comprehension to process the list."
   ]
  },
  {
   "cell_type": "code",
   "execution_count": 14,
   "metadata": {
    "slideshow": {
     "slide_type": "slide"
    }
   },
   "outputs": [
    {
     "data": {
      "text/plain": [
       "3.6666666666666665"
      ]
     },
     "execution_count": 14,
     "metadata": {},
     "output_type": "execute_result"
    }
   ],
   "source": [
    "quote = \"Don't judge each day by the harvest you reap but by the seeds that you plant.\"\n",
    "words = quote.split(\" \")\n",
    "lengths =  [len(word) for word in words]\n",
    "even_len = [n for n in lengths if n % 2 == 0]\n",
    "mean = sum(even_len)/len(even_len)\n",
    "mean"
   ]
  },
  {
   "cell_type": "code",
   "execution_count": 15,
   "metadata": {},
   "outputs": [],
   "source": [
    "split = pipeable(lambda sep, s: s.split(sep))\n",
    "word_lengths = pipeable(lambda L: [len(word) for word in L])\n",
    "even_len = pipeable(lambda L: [n for n in L if n % 2 == 0])\n",
    "mean = pipeable(lambda L: sum(L)/len(L))"
   ]
  },
  {
   "cell_type": "code",
   "execution_count": 16,
   "metadata": {},
   "outputs": [
    {
     "data": {
      "text/plain": [
       "3.6666666666666665"
      ]
     },
     "execution_count": 16,
     "metadata": {},
     "output_type": "execute_result"
    }
   ],
   "source": [
    "(quote\n",
    " >> split(\" \")\n",
    " >> word_lengths\n",
    " >> even_len\n",
    " >> mean\n",
    ")"
   ]
  },
  {
   "attachments": {},
   "cell_type": "markdown",
   "metadata": {},
   "source": [
    "### Step 2 - Abstract the comprehension using pipeable `map` and `filter`.\n",
    "\n",
    "<img src=\"./img/abstract_w_map_and_filter.png\" width=600>"
   ]
  },
  {
   "cell_type": "markdown",
   "metadata": {},
   "source": [
    "#### Built in `map` and `filter`\n",
    "\n",
    "Python has `map` and `filter` by default, but\n",
    "\n",
    "1. Lazy, and\n",
    "2. No piping"
   ]
  },
  {
   "cell_type": "code",
   "execution_count": 17,
   "metadata": {},
   "outputs": [
    {
     "data": {
      "text/plain": [
       "<map at 0x18d0fe582e0>"
      ]
     },
     "execution_count": 17,
     "metadata": {},
     "output_type": "execute_result"
    }
   ],
   "source": [
    "# Run before importing (or restart kernel)\n",
    "map(lambda x: x**2, range(100))"
   ]
  },
  {
   "cell_type": "code",
   "execution_count": 18,
   "metadata": {},
   "outputs": [
    {
     "ename": "TypeError",
     "evalue": "map() must have at least two arguments.",
     "output_type": "error",
     "traceback": [
      "\u001b[1;31m---------------------------------------------------------------------------\u001b[0m",
      "\u001b[1;31mTypeError\u001b[0m                                 Traceback (most recent call last)",
      "Cell \u001b[1;32mIn[18], line 2\u001b[0m\n\u001b[0;32m      1\u001b[0m (\u001b[38;5;28mrange\u001b[39m(\u001b[38;5;241m100\u001b[39m)\n\u001b[1;32m----> 2\u001b[0m  \u001b[38;5;241m>>\u001b[39m \u001b[38;5;28;43mmap\u001b[39;49m\u001b[43m(\u001b[49m\u001b[38;5;28;43;01mlambda\u001b[39;49;00m\u001b[43m \u001b[49m\u001b[43mx\u001b[49m\u001b[43m:\u001b[49m\u001b[43m \u001b[49m\u001b[43mx\u001b[49m\u001b[38;5;241;43m*\u001b[39;49m\u001b[38;5;241;43m*\u001b[39;49m\u001b[38;5;241;43m2\u001b[39;49m\u001b[43m)\u001b[49m\n\u001b[0;32m      3\u001b[0m )\n",
      "\u001b[1;31mTypeError\u001b[0m: map() must have at least two arguments."
     ]
    }
   ],
   "source": [
    "(range(100)\n",
    " >> map(lambda x: x**2)\n",
    ")"
   ]
  },
  {
   "cell_type": "markdown",
   "metadata": {},
   "source": [
    "### Getting `pipeable` and Eager map/filter from `composable`"
   ]
  },
  {
   "cell_type": "code",
   "execution_count": 2,
   "metadata": {},
   "outputs": [],
   "source": [
    "# Pipeable, eager versions of map & filter\n",
    "from composable.strict import map, filter"
   ]
  },
  {
   "cell_type": "code",
   "execution_count": 20,
   "metadata": {},
   "outputs": [
    {
     "data": {
      "text/plain": [
       "[121, 144, 169, 196, 225, 256, 289, 324, 361, 400]"
      ]
     },
     "execution_count": 20,
     "metadata": {},
     "output_type": "execute_result"
    }
   ],
   "source": [
    "(range(100)\n",
    " >> map(lambda x: x**2)\n",
    " >> filter(lambda x: x > 100)\n",
    ")[:10]"
   ]
  },
  {
   "cell_type": "markdown",
   "metadata": {},
   "source": [
    "## Converting piped comprehensions to map/filter"
   ]
  },
  {
   "cell_type": "markdown",
   "metadata": {},
   "source": [
    "### Example 1"
   ]
  },
  {
   "cell_type": "markdown",
   "metadata": {},
   "source": [
    "#### Old version"
   ]
  },
  {
   "cell_type": "code",
   "execution_count": 26,
   "metadata": {
    "slideshow": {
     "slide_type": "fragment"
    }
   },
   "outputs": [],
   "source": [
    "nums = pipeable(lambda N: [i for i in range(N)])\n",
    "sqrs = pipeable(lambda L: [item ** 2 for item in L])\n",
    "small_sqrs = pipeable(lambda L: [i for i in L if i <= 100])"
   ]
  },
  {
   "cell_type": "markdown",
   "metadata": {},
   "source": [
    "#### New version"
   ]
  },
  {
   "cell_type": "code",
   "execution_count": 22,
   "metadata": {},
   "outputs": [],
   "source": [
    "# Step 1 - pipeable inner functions\n",
    "make_range = pipeable(lambda N: range(N))\n",
    "sqr_num = pipeable(lambda i: i **2)\n",
    "at_most_100 = pipeable(lambda i: i <= 100)"
   ]
  },
  {
   "cell_type": "code",
   "execution_count": 23,
   "metadata": {},
   "outputs": [],
   "source": [
    "# Step 2 - convert to a map/filter pipe"
   ]
  },
  {
   "cell_type": "code",
   "execution_count": 24,
   "metadata": {},
   "outputs": [
    {
     "data": {
      "text/plain": [
       "[0, 1, 4, 9, 16, 25, 36, 49, 64, 81]"
      ]
     },
     "execution_count": 24,
     "metadata": {},
     "output_type": "execute_result"
    }
   ],
   "source": [
    "(100\n",
    " >> make_range\n",
    " >> map(sqr_num)\n",
    " >> filter(at_most_100)\n",
    ")[:10]"
   ]
  },
  {
   "cell_type": "markdown",
   "metadata": {
    "slideshow": {
     "slide_type": "slide"
    }
   },
   "source": [
    "## <font color='red'> Exercise 2.3 </font>\n",
    "Convert the second example to piped code"
   ]
  },
  {
   "cell_type": "markdown",
   "metadata": {},
   "source": [
    "#### Old Version"
   ]
  },
  {
   "cell_type": "code",
   "execution_count": 3,
   "metadata": {},
   "outputs": [],
   "source": [
    "quote = \"Don't judge each day by the harvest you reap but by the seeds that you plant.\"\n",
    "split = pipeable(lambda sep, s: s.split(sep))\n",
    "word_lengths = pipeable(lambda L: [len(word) for word in L])\n",
    "even_len = pipeable(lambda L: [n for n in L if n % 2 == 0])\n",
    "mean = pipeable(lambda L: sum(L)/len(L))"
   ]
  },
  {
   "cell_type": "code",
   "execution_count": 4,
   "metadata": {},
   "outputs": [
    {
     "data": {
      "text/plain": [
       "3.6666666666666665"
      ]
     },
     "execution_count": 4,
     "metadata": {},
     "output_type": "execute_result"
    }
   ],
   "source": [
    "(quote\n",
    " >> split(\" \")\n",
    " >> word_lengths\n",
    " >> even_len\n",
    " >> mean\n",
    ")"
   ]
  },
  {
   "cell_type": "markdown",
   "metadata": {},
   "source": [
    "#### New version"
   ]
  },
  {
   "cell_type": "code",
   "execution_count": 5,
   "metadata": {},
   "outputs": [],
   "source": [
    "# Your new version here\n",
    "plen = pipeable(lambda L: len(L))\n",
    "even = pipeable(lambda n: n % 2 == 0)"
   ]
  },
  {
   "cell_type": "code",
   "execution_count": 6,
   "metadata": {},
   "outputs": [
    {
     "data": {
      "text/plain": [
       "3.6666666666666665"
      ]
     },
     "execution_count": 6,
     "metadata": {},
     "output_type": "execute_result"
    }
   ],
   "source": [
    "(quote\n",
    " >> split(\" \")\n",
    " >> map(plen)\n",
    " >> filter(even)\n",
    " >> mean\n",
    ")"
   ]
  },
  {
   "cell_type": "code",
   "execution_count": null,
   "metadata": {},
   "outputs": [],
   "source": []
  }
 ],
 "metadata": {
  "anaconda-cloud": {},
  "kernelspec": {
   "display_name": "Python 3 (ipykernel)",
   "language": "python",
   "name": "python3"
  },
  "language_info": {
   "codemirror_mode": {
    "name": "ipython",
    "version": 3
   },
   "file_extension": ".py",
   "mimetype": "text/x-python",
   "name": "python",
   "nbconvert_exporter": "python",
   "pygments_lexer": "ipython3",
   "version": "3.12.5"
  }
 },
 "nbformat": 4,
 "nbformat_minor": 4
}
