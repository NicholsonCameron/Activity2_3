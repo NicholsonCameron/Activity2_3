{
 "cells": [
  {
   "cell_type": "markdown",
   "metadata": {},
   "source": [
    "# Map and Filter Group Work\n",
    "\n",
    "In this exercise, we will revisit the group work assignment on reading and writing tables.  Below you will find the answer key for the earlier assignment.  Your task will be to convert all code to use `map` and `filter` whereever possible.\n",
    "\n",
    "**Here are the rules**\n",
    "\n",
    "1. Use `with_iter` from `more_itertools` combined with `csv.reader` to read tables.\n",
    "2. Replace all comprehension with calls to `map` and/or `filter`\n",
    "3. Write `lambda` helper functions for each `map` and `filter` \n",
    "\n"
   ]
  },
  {
   "cell_type": "markdown",
   "metadata": {},
   "source": [
    "<font color=\"red\">**Question 1:**</font>  While rare in the modern era, it used to be common practice for teams to have player-managers, i.e. using a current player as a manager.  Compute the total number of runs scored by all player-managers (all time).\n",
    "\n",
    "**Relevant Files:**  Managers.csv, Batting.csv\n",
    "\n",
    "**Hint:** You will need to join the tables on `playerID` and `year`"
   ]
  },
  {
   "cell_type": "markdown",
   "metadata": {},
   "source": [
    "**Step 1:** Import `with_iter` from `more_itertools`, `get` from `toolz`, and `reader` from `csv`"
   ]
  },
  {
   "cell_type": "code",
   "execution_count": 1,
   "metadata": {
    "collapsed": true
   },
   "outputs": [],
   "source": [
    "from more_itertools import with_iter\n",
    "from csv import reader\n",
    "from toolz import get"
   ]
  },
  {
   "cell_type": "markdown",
   "metadata": {},
   "source": [
    "** Step 2:** Read *Manager.csv* and *Batting.csv* into Python"
   ]
  },
  {
   "cell_type": "code",
   "execution_count": 2,
   "metadata": {},
   "outputs": [],
   "source": [
    "# Note the replicated code.  We will fix this in a future exercise\n",
    "read_csv = lambda filename: list(reader(with_iter(open(filename))))\n",
    "managers = read_csv(\"Managers.csv\")\n",
    "batting = read_csv(\"Batting.csv\")"
   ]
  },
  {
   "cell_type": "markdown",
   "metadata": {},
   "source": [
    "**Step 3:** Inspect the header of managers using `list` and `enumerate`."
   ]
  },
  {
   "cell_type": "code",
   "execution_count": 3,
   "metadata": {},
   "outputs": [
    {
     "data": {
      "text/plain": [
       "[(0, 'playerID'),\n",
       " (1, 'yearID'),\n",
       " (2, 'teamID'),\n",
       " (3, 'lgID'),\n",
       " (4, 'inseason'),\n",
       " (5, 'G'),\n",
       " (6, 'W'),\n",
       " (7, 'L'),\n",
       " (8, 'rank'),\n",
       " (9, 'plyrMgr')]"
      ]
     },
     "execution_count": 3,
     "metadata": {},
     "output_type": "execute_result"
    }
   ],
   "source": [
    "managers_header = managers[0]\n",
    "list(enumerate(managers_header))"
   ]
  },
  {
   "cell_type": "markdown",
   "metadata": {},
   "source": [
    "**Step 4:** Filter out the player managers into a new file"
   ]
  },
  {
   "cell_type": "code",
   "execution_count": 4,
   "metadata": {
    "collapsed": true
   },
   "outputs": [],
   "source": [
    "player_managers = [r for r in managers if get(-1, r) == 'Y']"
   ]
  },
  {
   "cell_type": "markdown",
   "metadata": {},
   "source": [
    "**Step 5:** Make a list of player managers IDs "
   ]
  },
  {
   "cell_type": "code",
   "execution_count": 5,
   "metadata": {
    "collapsed": true
   },
   "outputs": [],
   "source": [
    "player_managers_IDs = [get(0, r) for r in player_managers]"
   ]
  },
  {
   "cell_type": "markdown",
   "metadata": {},
   "source": [
    "**Step 6:** Inspect the batting header using `list` and `enumerate`."
   ]
  },
  {
   "cell_type": "code",
   "execution_count": 6,
   "metadata": {},
   "outputs": [
    {
     "data": {
      "text/plain": [
       "[(0, 'playerID'),\n",
       " (1, 'yearID'),\n",
       " (2, 'stint'),\n",
       " (3, 'teamID'),\n",
       " (4, 'lgID'),\n",
       " (5, 'G'),\n",
       " (6, 'AB'),\n",
       " (7, 'R'),\n",
       " (8, 'H'),\n",
       " (9, '2B'),\n",
       " (10, '3B'),\n",
       " (11, 'HR'),\n",
       " (12, 'RBI'),\n",
       " (13, 'SB'),\n",
       " (14, 'CS'),\n",
       " (15, 'BB'),\n",
       " (16, 'SO'),\n",
       " (17, 'IBB'),\n",
       " (18, 'HBP'),\n",
       " (19, 'SH'),\n",
       " (20, 'SF'),\n",
       " (21, 'GIDP')]"
      ]
     },
     "execution_count": 6,
     "metadata": {},
     "output_type": "execute_result"
    }
   ],
   "source": [
    "batting_header = batting[0]\n",
    "list(enumerate(batting_header))"
   ]
  },
  {
   "cell_type": "markdown",
   "metadata": {},
   "source": [
    "**Step 7:** Filter out the runs from *Batting.csv* for all player managers"
   ]
  },
  {
   "cell_type": "code",
   "execution_count": 7,
   "metadata": {
    "collapsed": true
   },
   "outputs": [],
   "source": [
    "runs = [int(get(7, r)) for r in batting if get(0,r) in player_managers_IDs]"
   ]
  },
  {
   "cell_type": "markdown",
   "metadata": {},
   "source": [
    "**Step 8:** Total the runs"
   ]
  },
  {
   "cell_type": "code",
   "execution_count": 8,
   "metadata": {},
   "outputs": [
    {
     "data": {
      "text/plain": [
       "159530"
      ]
     },
     "execution_count": 8,
     "metadata": {},
     "output_type": "execute_result"
    }
   ],
   "source": [
    "sum(runs)"
   ]
  },
  {
   "cell_type": "markdown",
   "metadata": {},
   "source": [
    "<font color=\"red\">**Question 2:**</font> Create a table of statistics on pitching that contains the following information:\n",
    "\n",
    "* players_name, \n",
    "* year, \n",
    "* team_name, (**BONUS**)\n",
    "* wins(W), \n",
    "* losses(L), \n",
    "* complete games (CG), \n",
    "* innings pitched (IP)\n",
    "\n",
    "Write this information to a file named **PitchingNames.csv** and include this file with your submission.\n",
    "\n",
    "**Edit:** Do this for the last 10 years.\n",
    "\n",
    "**Bonus:** Do this for all time.\n",
    "\n",
    "**Hint:** You can speed this up by filtering the master table, keeping only rows related to pitchers.\n",
    "\n",
    "**Relevant Files:** Pitching.csv, Master.csv, Teams.csv"
   ]
  },
  {
   "cell_type": "code",
   "execution_count": 21,
   "metadata": {
    "collapsed": true
   },
   "outputs": [],
   "source": [
    "pitching = read_csv('Pitching.csv')\n",
    "master = read_csv('Master.csv')\n",
    "teams = read_csv('Teams.csv')"
   ]
  },
  {
   "cell_type": "code",
   "execution_count": 22,
   "metadata": {},
   "outputs": [],
   "source": [
    "# Step 1: get the info from pitching.\n",
    "# We need playerID (0), yearId(1), teamID (3),wins (5), loses(6), complete games (9) and IPouts (12) \n",
    "# See enumeration in Question 3\n",
    "filter_row = lambda r: get([0, 1, 3, 5, 6, 9, 12], r)\n",
    "pitching2006_2010 = [filter_row(r) for r in pitching[1:] if 2006 <= int(get(1, r)) <= 2010]"
   ]
  },
  {
   "cell_type": "code",
   "execution_count": 23,
   "metadata": {
    "collapsed": true
   },
   "outputs": [],
   "source": [
    "# To get the players names, we need a list of all players in the filtered list\n",
    "pitchersIDs = [get(0, r) for r in pitching2006_2010]"
   ]
  },
  {
   "cell_type": "code",
   "execution_count": 24,
   "metadata": {},
   "outputs": [
    {
     "data": {
      "text/plain": [
       "[('aardsda01', 'David Aardsma'),\n",
       " ('abadfe01', 'Fernando Abad'),\n",
       " ('abreuwi01', 'Winston Abreu')]"
      ]
     },
     "execution_count": 24,
     "metadata": {},
     "output_type": "execute_result"
    }
   ],
   "source": [
    "# Now filter out the names from master.\n",
    "# We need the playerID(0), first name(13) and last name(14).  See the enumeration below.\n",
    "raw_names = [get([0, 13, 14], r) for r in master if get(0, r) in pitchersIDs]\n",
    "# Now process these names by adding the first and last names.  Do this with a helper function.\n",
    "add_names = lambda row: (row[0], row[1] + \" \" + row[2])\n",
    "names = [add_names(r) for r in raw_names]\n",
    "names[:3]"
   ]
  },
  {
   "cell_type": "code",
   "execution_count": 25,
   "metadata": {},
   "outputs": [
    {
     "data": {
      "text/plain": [
       "[('David Aardsma', '2006', 'CHN', '3', '0', '0', '159'),\n",
       " ('David Aardsma', '2007', 'CHA', '2', '1', '0', '97'),\n",
       " ('David Aardsma', '2008', 'BOS', '4', '2', '0', '146')]"
      ]
     },
     "execution_count": 25,
     "metadata": {},
     "output_type": "execute_result"
    }
   ],
   "source": [
    "# Time to join the names onto the pitcher info.  \n",
    "# We want to keep the second index from the names and \n",
    "# indexes [1,3,4,6,9,12] from piching info.\n",
    "# Make a helper function to do this\n",
    "combined_row = lambda name_row, info_row: get([1], name_row) + get([1, 2, 3, 4, 5, 6], info_row)\n",
    "# The rows will be joined by mathcing playerIDs.  Here is a helper to do this.\n",
    "match_on_playerID = lambda name_row, info_row: get(0, name_row) == get(0, info_row)\n",
    "info_with_names = [combined_row(name_row, info_row) \n",
    "                   for name_row in names\n",
    "                  for info_row in pitching2006_2010\n",
    "                  if match_on_playerID(name_row, info_row)]\n",
    "info_with_names[:3]"
   ]
  },
  {
   "cell_type": "code",
   "execution_count": null,
   "metadata": {
    "collapsed": true
   },
   "outputs": [],
   "source": []
  },
  {
   "cell_type": "code",
   "execution_count": 26,
   "metadata": {},
   "outputs": [
    {
     "data": {
      "text/plain": [
       "[('2006', 'CHN')]"
      ]
     },
     "execution_count": 26,
     "metadata": {},
     "output_type": "execute_result"
    }
   ],
   "source": [
    "# Do the same for the teams.\n",
    "# 1. Pull out the teamIDs for filtering.\n",
    "# 2. Make a table with teamID and team name\n",
    "# 3. Join the tables, replacing teamID with team name (for convenience, we will put the team name on the end.)\n",
    "teamIDs = [get([1, 2], r) for r in info_with_names]\n",
    "teamIDs[:1]"
   ]
  },
  {
   "cell_type": "code",
   "execution_count": 27,
   "metadata": {},
   "outputs": [
    {
     "data": {
      "text/plain": [
       "[('2006', 'ARI', 'Arizona Diamondbacks'),\n",
       " ('2006', 'ATL', 'Atlanta Braves'),\n",
       " ('2006', 'BAL', 'Baltimore Orioles')]"
      ]
     },
     "execution_count": 27,
     "metadata": {},
     "output_type": "execute_result"
    }
   ],
   "source": [
    "team_names = [get([0,2,40], r) for r in teams if get([0,2],r) in teamIDs]\n",
    "team_names[:3]"
   ]
  },
  {
   "cell_type": "code",
   "execution_count": 28,
   "metadata": {},
   "outputs": [
    {
     "data": {
      "text/plain": [
       "[('Greg Aquino', '2006', 'Arizona Diamondbacks', '2', '0', '0', '145'),\n",
       " ('Jeff Bajenaru', '2006', 'Arizona Diamondbacks', '0', '1', '0', '3'),\n",
       " ('Miguel Batista', '2006', 'Arizona Diamondbacks', '11', '8', '3', '619')]"
      ]
     },
     "execution_count": 28,
     "metadata": {},
     "output_type": "execute_result"
    }
   ],
   "source": [
    "combined_row = lambda team_row, info_row: get([0,1], info_row) + get([2], team_row) + get([3, 4, 5, 6], info_row)\n",
    "join_on_teamID_year  = lambda team_row, info_row: get(0, team_row) == get(1, info_row) and get(1, team_row) == get(2, info_row)\n",
    "info_with_name_team = [combined_row(team_row, info_row)\n",
    "                      for team_row in team_names\n",
    "                      for info_row in info_with_names\n",
    "                      if join_on_teamID_year(team_row, info_row)]\n",
    "info_with_name_team[:3]"
   ]
  },
  {
   "cell_type": "code",
   "execution_count": 29,
   "metadata": {},
   "outputs": [
    {
     "name": "stdout",
     "output_type": "stream",
     "text": [
      "Greg Aquino,2006,Arizona Diamondbacks,2,0,0,145\r\n",
      "Jeff Bajenaru,2006,Arizona Diamondbacks,0,1,0,3\r\n",
      "Miguel Batista,2006,Arizona Diamondbacks,11,8,3,619\r\n",
      "Randy Choate,2006,Arizona Diamondbacks,0,1,0,48\r\n",
      "Juan Cruz,2006,Arizona Diamondbacks,5,6,0,284\r\n",
      "cat: stdout: Broken pipe\r\n"
     ]
    }
   ],
   "source": [
    "from more_itertools import consume\n",
    "# Join the rows to strings then write the files.O\n",
    "joined_rows = [\",\".join(r) for r in info_with_name_team]\n",
    "with open('PitchingNames.csv', 'w') as out:\n",
    "    consume([print(r, file=out) for r in joined_rows])\n",
    "! cat PitchingNames.csv | head -n 5"
   ]
  },
  {
   "cell_type": "markdown",
   "metadata": {},
   "source": [
    "<font color=\"red\">**Question 3:**</font> Find the name of the pitcher and the associated team name for the pitcher with the lowest ERA (earned runs average) out of all pitchers between the years 1970 and 2010.  Limit your search to pitchers with at least 5 games pitched in a given year.\n",
    "\n",
    "** Relevant Files:** Pitching.csv, Master.csv, Teams.csv"
   ]
  },
  {
   "cell_type": "markdown",
   "metadata": {},
   "source": [
    "**Step 1:** Read in all three files."
   ]
  },
  {
   "cell_type": "code",
   "execution_count": 30,
   "metadata": {},
   "outputs": [],
   "source": [
    "pitching = read_csv('Pitching.csv')\n",
    "master = read_csv('Master.csv')\n",
    "teams = read_csv('Teams.csv')"
   ]
  },
  {
   "cell_type": "markdown",
   "metadata": {},
   "source": [
    "**Step 2:** Filter the pitching table to only include the years 1970 to 2010."
   ]
  },
  {
   "cell_type": "code",
   "execution_count": 31,
   "metadata": {},
   "outputs": [
    {
     "data": {
      "text/plain": [
       "[(0, 'playerID'),\n",
       " (1, 'yearID'),\n",
       " (2, 'stint'),\n",
       " (3, 'teamID'),\n",
       " (4, 'lgID'),\n",
       " (5, 'W'),\n",
       " (6, 'L'),\n",
       " (7, 'G'),\n",
       " (8, 'GS'),\n",
       " (9, 'CG'),\n",
       " (10, 'SHO'),\n",
       " (11, 'SV'),\n",
       " (12, 'IPouts'),\n",
       " (13, 'H'),\n",
       " (14, 'ER'),\n",
       " (15, 'HR'),\n",
       " (16, 'BB'),\n",
       " (17, 'SO'),\n",
       " (18, 'BAOpp'),\n",
       " (19, 'ERA'),\n",
       " (20, 'IBB'),\n",
       " (21, 'WP'),\n",
       " (22, 'HBP'),\n",
       " (23, 'BK'),\n",
       " (24, 'BFP'),\n",
       " (25, 'GF'),\n",
       " (26, 'R'),\n",
       " (27, 'SH'),\n",
       " (28, 'SF'),\n",
       " (29, 'GIDP')]"
      ]
     },
     "execution_count": 31,
     "metadata": {},
     "output_type": "execute_result"
    }
   ],
   "source": [
    "# Look at the pitching header to determine the location of year\n",
    "pitching_header = pitching[0]\n",
    "list(enumerate(pitching_header))"
   ]
  },
  {
   "cell_type": "code",
   "execution_count": 32,
   "metadata": {},
   "outputs": [
    {
     "data": {
      "text/plain": [
       "[['abernte02',\n",
       "  '1970',\n",
       "  '1',\n",
       "  'CHN',\n",
       "  'NL',\n",
       "  '0',\n",
       "  '0',\n",
       "  '11',\n",
       "  '0',\n",
       "  '0',\n",
       "  '0',\n",
       "  '1',\n",
       "  '27',\n",
       "  '9',\n",
       "  '2',\n",
       "  '0',\n",
       "  '5',\n",
       "  '2',\n",
       "  '0.28',\n",
       "  '2',\n",
       "  '1',\n",
       "  '0',\n",
       "  '1',\n",
       "  '0',\n",
       "  '40',\n",
       "  '3',\n",
       "  '2',\n",
       "  '',\n",
       "  '',\n",
       "  '']]"
      ]
     },
     "execution_count": 32,
     "metadata": {},
     "output_type": "execute_result"
    }
   ],
   "source": [
    "pitching1970_2010 = [r for r in pitching[1:] if 1970 <= int(get(1, r)) <= 2010]\n",
    "pitching1970_2010[:1]"
   ]
  },
  {
   "cell_type": "markdown",
   "metadata": {},
   "source": [
    "**Step 3:** Make a new table that contains the ERA (int) and playerID of each pitcher in the filtered list\n",
    "\n",
    "**Note** We also need to hang onto the year and teamID for later joins."
   ]
  },
  {
   "cell_type": "code",
   "execution_count": 33,
   "metadata": {},
   "outputs": [
    {
     "data": {
      "text/plain": [
       "[('abernte02', '1970', 'CHN', 0.28),\n",
       " ('abernte02', '1970', 'KCA', 0.2),\n",
       " ('abernte02', '1970', 'SLN', 0.24)]"
      ]
     },
     "execution_count": 33,
     "metadata": {},
     "output_type": "execute_result"
    }
   ],
   "source": [
    "# Pull out the raw string entries using get\n",
    "eras = [get([0,1,3,19], r) for r in pitching1970_2010]\n",
    "# Map float to era, making sure we skip empty rows\n",
    "eras = [(id, year, teamID, float(era)) for id, year, teamID, era in eras if len(era) > 0]\n",
    "# NOTE we will use an abstraction to allow us to do this in one step in a later exercise\n",
    "eras[:3]"
   ]
  },
  {
   "cell_type": "markdown",
   "metadata": {},
   "source": [
    "**Step 4:** Use `min` with a key function (see **Section 4.3.4** of the book) to identify the player with the lowest ERA"
   ]
  },
  {
   "cell_type": "code",
   "execution_count": 34,
   "metadata": {},
   "outputs": [
    {
     "data": {
      "text/plain": [
       "('otoolde01', '1971', 'CHA', 0.0)"
      ]
     },
     "execution_count": 34,
     "metadata": {},
     "output_type": "execute_result"
    }
   ],
   "source": [
    "# We are sorting by era, which has index 2\n",
    "key_func = lambda r: get(3, r)\n",
    "min_era = min(eras, key=key_func)\n",
    "min_era"
   ]
  },
  {
   "cell_type": "code",
   "execution_count": 35,
   "metadata": {},
   "outputs": [
    {
     "data": {
      "text/plain": [
       "'otoolde01'"
      ]
     },
     "execution_count": 35,
     "metadata": {},
     "output_type": "execute_result"
    }
   ],
   "source": [
    "min_player, min_year, min_team, min_era = min_era\n",
    "min_player"
   ]
  },
  {
   "cell_type": "code",
   "execution_count": 36,
   "metadata": {},
   "outputs": [
    {
     "data": {
      "text/plain": [
       "771"
      ]
     },
     "execution_count": 36,
     "metadata": {},
     "output_type": "execute_result"
    }
   ],
   "source": [
    "# BONUS - For fun lets find all players with that tie with this era\n",
    "ties = [r for r in eras if get(3, r) == min_era]\n",
    "len(ties)"
   ]
  },
  {
   "cell_type": "code",
   "execution_count": 37,
   "metadata": {},
   "outputs": [
    {
     "data": {
      "text/plain": [
       "[('otoolde01', '1971', 'CHA', 0.0),\n",
       " ('yountla01', '1971', 'HOU', 0.0),\n",
       " ('kilkemi01', '1972', 'OAK', 0.0),\n",
       " ('apodabo01', '1973', 'NYN', 0.0)]"
      ]
     },
     "execution_count": 37,
     "metadata": {},
     "output_type": "execute_result"
    }
   ],
   "source": [
    "ties[:4]"
   ]
  },
  {
   "cell_type": "markdown",
   "metadata": {},
   "source": [
    "**Step 5:** Use filters to get the name and the team of the player identified in the last step."
   ]
  },
  {
   "cell_type": "code",
   "execution_count": 38,
   "metadata": {},
   "outputs": [
    {
     "data": {
      "text/plain": [
       "[(0, 'playerID'),\n",
       " (1, 'birthYear'),\n",
       " (2, 'birthMonth'),\n",
       " (3, 'birthDay'),\n",
       " (4, 'birthCountry'),\n",
       " (5, 'birthState'),\n",
       " (6, 'birthCity'),\n",
       " (7, 'deathYear'),\n",
       " (8, 'deathMonth'),\n",
       " (9, 'deathDay'),\n",
       " (10, 'deathCountry'),\n",
       " (11, 'deathState'),\n",
       " (12, 'deathCity'),\n",
       " (13, 'nameFirst'),\n",
       " (14, 'nameLast'),\n",
       " (15, 'nameGiven'),\n",
       " (16, 'weight'),\n",
       " (17, 'height'),\n",
       " (18, 'bats'),\n",
       " (19, 'throws'),\n",
       " (20, 'debut'),\n",
       " (21, 'finalGame'),\n",
       " (22, 'retroID'),\n",
       " (23, 'bbrefID')]"
      ]
     },
     "execution_count": 38,
     "metadata": {},
     "output_type": "execute_result"
    }
   ],
   "source": [
    "# Use enumerate on the header to find the indexes for nameGiven\n",
    "master_header = master[0]\n",
    "list(enumerate(master_header))"
   ]
  },
  {
   "cell_type": "code",
   "execution_count": 39,
   "metadata": {},
   "outputs": [
    {
     "data": {
      "text/plain": [
       "\"Denny O'Toole\""
      ]
     },
     "execution_count": 39,
     "metadata": {},
     "output_type": "execute_result"
    }
   ],
   "source": [
    "# Get the  name by matching with id\n",
    "# Note that the name sill be first + last\n",
    "add_name = lambda row: row[0] + \" \" + row[1]\n",
    "player_name = get(0, [add_name(get([13, 14], r)) for r in master if get(0, r) == min_player])\n",
    "player_name"
   ]
  },
  {
   "cell_type": "code",
   "execution_count": 40,
   "metadata": {},
   "outputs": [
    {
     "data": {
      "text/plain": [
       "[(0, 'yearID'),\n",
       " (1, 'lgID'),\n",
       " (2, 'teamID'),\n",
       " (3, 'franchID'),\n",
       " (4, 'divID'),\n",
       " (5, 'Rank'),\n",
       " (6, 'G'),\n",
       " (7, 'Ghome'),\n",
       " (8, 'W'),\n",
       " (9, 'L'),\n",
       " (10, 'DivWin'),\n",
       " (11, 'WCWin'),\n",
       " (12, 'LgWin'),\n",
       " (13, 'WSWin'),\n",
       " (14, 'R'),\n",
       " (15, 'AB'),\n",
       " (16, 'H'),\n",
       " (17, '2B'),\n",
       " (18, '3B'),\n",
       " (19, 'HR'),\n",
       " (20, 'BB'),\n",
       " (21, 'SO'),\n",
       " (22, 'SB'),\n",
       " (23, 'CS'),\n",
       " (24, 'HBP'),\n",
       " (25, 'SF'),\n",
       " (26, 'RA'),\n",
       " (27, 'ER'),\n",
       " (28, 'ERA'),\n",
       " (29, 'CG'),\n",
       " (30, 'SHO'),\n",
       " (31, 'SV'),\n",
       " (32, 'IPouts'),\n",
       " (33, 'HA'),\n",
       " (34, 'HRA'),\n",
       " (35, 'BBA'),\n",
       " (36, 'SOA'),\n",
       " (37, 'E'),\n",
       " (38, 'DP'),\n",
       " (39, 'FP'),\n",
       " (40, 'name'),\n",
       " (41, 'park'),\n",
       " (42, 'attendance'),\n",
       " (43, 'BPF'),\n",
       " (44, 'PPF'),\n",
       " (45, 'teamIDBR'),\n",
       " (46, 'teamIDlahman45'),\n",
       " (47, 'teamIDretro')]"
      ]
     },
     "execution_count": 40,
     "metadata": {},
     "output_type": "execute_result"
    }
   ],
   "source": [
    "team_header = teams[0]\n",
    "list(enumerate(team_header))"
   ]
  },
  {
   "cell_type": "code",
   "execution_count": 41,
   "metadata": {},
   "outputs": [
    {
     "data": {
      "text/plain": [
       "'Chicago White Sox'"
      ]
     },
     "execution_count": 41,
     "metadata": {},
     "output_type": "execute_result"
    }
   ],
   "source": [
    "team_name = get(0, [get(40, r) for r in teams if get(0, r) == min_year and get(2, r) == min_team])\n",
    "team_name"
   ]
  },
  {
   "cell_type": "code",
   "execution_count": 42,
   "metadata": {},
   "outputs": [
    {
     "data": {
      "text/plain": [
       "(\"Denny O'Toole\", 'Chicago White Sox', '1971', 0.0)"
      ]
     },
     "execution_count": 42,
     "metadata": {},
     "output_type": "execute_result"
    }
   ],
   "source": [
    "player_name, team_name, min_year, min_era"
   ]
  },
  {
   "cell_type": "code",
   "execution_count": null,
   "metadata": {
    "collapsed": true
   },
   "outputs": [],
   "source": [
    "# Bonus exercise: Can you get all the player and team names for the ties?"
   ]
  }
 ],
 "metadata": {
  "anaconda-cloud": {},
  "kernelspec": {
   "display_name": "Python 3",
   "language": "python",
   "name": "python3"
  },
  "language_info": {
   "codemirror_mode": {
    "name": "ipython",
    "version": 3
   },
   "file_extension": ".py",
   "mimetype": "text/x-python",
   "name": "python",
   "nbconvert_exporter": "python",
   "pygments_lexer": "ipython3",
   "version": "3.7.2"
  }
 },
 "nbformat": 4,
 "nbformat_minor": 1
}
